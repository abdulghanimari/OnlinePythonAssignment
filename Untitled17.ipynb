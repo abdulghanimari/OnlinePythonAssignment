{
 "cells": [
  {
   "cell_type": "code",
   "execution_count": 2,
   "id": "bd5517ce",
   "metadata": {},
   "outputs": [
    {
     "name": "stdout",
     "output_type": "stream",
     "text": [
      "Jawan Pakistan\n",
      "Assignment #3\n",
      "Name: Abdul Ghani\n",
      "Surname: Marri Baloch\n"
     ]
    }
   ],
   "source": [
    "print (\"Jawan Pakistan\\nAssignment #3\\nName: Abdul Ghani\\nSurname: Marri Baloch\");"
   ]
  },
  {
   "cell_type": "code",
   "execution_count": 3,
   "id": "b79e2e32",
   "metadata": {},
   "outputs": [
    {
     "name": "stdout",
     "output_type": "stream",
     "text": [
      "Twinkle, twinkle, little star,\n",
      "     How i wonder what you are|\n",
      "        Up above the world so high,\n",
      "       Like a diamond in the sky.\n",
      "Twinkle, twinkle, little star,\n",
      "     How i wonder what you are\n"
     ]
    }
   ],
   "source": [
    "print(\"Twinkle, twinkle, little star,\\n     How i wonder what you are|\\n        Up above the world so high,\\n       Like a diamond in the sky.\\nTwinkle, twinkle, little star,\\n     How i wonder what you are\");"
   ]
  },
  {
   "cell_type": "code",
   "execution_count": 4,
   "id": "9c939145",
   "metadata": {},
   "outputs": [
    {
     "name": "stdout",
     "output_type": "stream",
     "text": [
      "Python Version\n",
      "3.8.8 (default, Apr 13 2021, 15:08:03) [MSC v.1916 64 bit (AMD64)]\n",
      "Version info.\n",
      "sys.version_info(major=3, minor=8, micro=8, releaselevel='final', serial=0)\n"
     ]
    }
   ],
   "source": [
    "import sys\n",
    "print (\"Python Version\")\n",
    "print (sys.version)\n",
    "print (\"Version info.\")\n",
    "print (sys.version_info)\n"
   ]
  },
  {
   "cell_type": "code",
   "execution_count": 9,
   "id": "f2d6e65c",
   "metadata": {},
   "outputs": [
    {
     "data": {
      "text/plain": [
       "1634972351.3642704"
      ]
     },
     "execution_count": 9,
     "metadata": {},
     "output_type": "execute_result"
    }
   ],
   "source": [
    "import time\n",
    "time.time()"
   ]
  },
  {
   "cell_type": "code",
   "execution_count": 10,
   "id": "df0ceeaa",
   "metadata": {},
   "outputs": [
    {
     "data": {
      "text/plain": [
       "'Sat Oct 23 11:59:11 2021'"
      ]
     },
     "execution_count": 10,
     "metadata": {},
     "output_type": "execute_result"
    }
   ],
   "source": [
    "time.ctime(1634972351.3642704)"
   ]
  },
  {
   "cell_type": "code",
   "execution_count": 12,
   "id": "979d3d9d",
   "metadata": {},
   "outputs": [
    {
     "name": "stdout",
     "output_type": "stream",
     "text": [
      "Enter The Radius Of Circle 4\n",
      "Area of circle is 50.24\n"
     ]
    }
   ],
   "source": [
    "r=int (input(\"Enter The Radius Of Circle \"));\n",
    "a=3.14*r**2\n",
    "print (\"Area of circle is\",a);"
   ]
  },
  {
   "cell_type": "code",
   "execution_count": 13,
   "id": "c220df8b",
   "metadata": {},
   "outputs": [
    {
     "name": "stdout",
     "output_type": "stream",
     "text": [
      "First Name: Abdul Ghani\n",
      "Last Name: Marri Baloch\n"
     ]
    }
   ],
   "source": [
    "input(\"First Name: \");\n",
    "input(\"Last Name: \");"
   ]
  },
  {
   "cell_type": "code",
   "execution_count": 14,
   "id": "7c6d9a2a",
   "metadata": {},
   "outputs": [
    {
     "name": "stdout",
     "output_type": "stream",
     "text": [
      "Enter The Value : 20\n",
      "Enter The Value : 43\n",
      "20 + 43 = 63\n"
     ]
    }
   ],
   "source": [
    "num1= int (input(\"Enter The Value : \"));\n",
    "num2= int (input(\"Enter The Value : \"));\n",
    "total = num1+num2\n",
    "print (num1,\"+\",num2,\"=\",total)"
   ]
  },
  {
   "cell_type": "code",
   "execution_count": 16,
   "id": "75916d34",
   "metadata": {},
   "outputs": [
    {
     "name": "stdout",
     "output_type": "stream",
     "text": [
      "Enter The Marks\n",
      "English Marks: 97\n",
      "Urdu Marks: 93\n",
      "Math Marks: 86\n",
      "Sindhi Marks: 77\n",
      "Islamiat Marks: 83\n",
      "B+\n"
     ]
    }
   ],
   "source": [
    "print(\"Enter The Marks\");\n",
    "English = int (input (\"English Marks: \"));\n",
    "Urdu = int (input (\"Urdu Marks: \"));\n",
    "Math = int (input (\"Math Marks: \"));\n",
    "Sindhi = int (input (\"Sindhi Marks: \"));\n",
    "Islamiat = int (input (\"Islamiat Marks: \"));\n",
    "Total = 600;\n",
    "percent = (English+Urdu+Math+Sindhi+Islamiat)/Total*100;\n",
    "if percent < 100 and percent >= 80:\n",
    "    print (\"A+\");\n",
    "elif percent < 80 and percent >= 70:\n",
    "    print (\"B+\");\n",
    "elif percent < 70 and percent >= 60:\n",
    "    print (\"B\");\n",
    "elif percent < 60 and percent >= 50:\n",
    "    print (\"C+\");\n",
    "elif percent < 50 and percent >= 40:\n",
    "    print (\"C\");\n",
    "elif percent < 33 and percent >= 100:\n",
    "    print (\"F\");\n",
    "else:\n",
    "    print (\"Fail\");\n"
   ]
  },
  {
   "cell_type": "code",
   "execution_count": 18,
   "id": "e227eeb6",
   "metadata": {},
   "outputs": [
    {
     "name": "stdout",
     "output_type": "stream",
     "text": [
      "Enter an entiger number: 5\n",
      "5 It is an odd number\n"
     ]
    }
   ],
   "source": [
    "number = int (input(\"Enter an entiger number: \"));\n",
    "remainder = number % 2\n",
    "if (remainder == 0 ):\n",
    "    print (number,\"It is an even number\")\n",
    "else:\n",
    "    print (number,\"It is an odd number\")"
   ]
  },
  {
   "cell_type": "code",
   "execution_count": 19,
   "id": "071315f8",
   "metadata": {},
   "outputs": [
    {
     "name": "stdout",
     "output_type": "stream",
     "text": [
      "4\n"
     ]
    }
   ],
   "source": [
    "list_a= list ([3,6,8,100])\n",
    "list_length = len(list_a)\n",
    "print (list_length)"
   ]
  },
  {
   "cell_type": "code",
   "execution_count": 20,
   "id": "616716c7",
   "metadata": {},
   "outputs": [
    {
     "name": "stdout",
     "output_type": "stream",
     "text": [
      "[1, 2, 3, 4, 5, 6, 7, 8, 9]\n",
      "45\n"
     ]
    }
   ],
   "source": [
    "list_a=[1,2,3,4,5,6,7,8,9]\n",
    "sum_result=sum(list_a)\n",
    "print(list_a)\n",
    "print(sum_result)"
   ]
  },
  {
   "cell_type": "code",
   "execution_count": 21,
   "id": "83575493",
   "metadata": {},
   "outputs": [
    {
     "name": "stdout",
     "output_type": "stream",
     "text": [
      "[20, 30, 40, 60, 80]\n",
      "230\n"
     ]
    }
   ],
   "source": [
    "list_a=[20,30,40,60,80]\n",
    "sum_result=sum(list_a)\n",
    "print(list_a)\n",
    "print(sum_result)"
   ]
  },
  {
   "cell_type": "code",
   "execution_count": 22,
   "id": "97252244",
   "metadata": {},
   "outputs": [
    {
     "name": "stdout",
     "output_type": "stream",
     "text": [
      "[1, 4, 7, 10, 13, 16, 19]\n",
      "70\n"
     ]
    }
   ],
   "source": [
    "list_a=list(range(1,20,3))\n",
    "sum_result=sum(list_a)\n",
    "print(list_a)\n",
    "print(sum_result)"
   ]
  },
  {
   "cell_type": "code",
   "execution_count": null,
   "id": "9ef44876",
   "metadata": {},
   "outputs": [],
   "source": []
  }
 ],
 "metadata": {
  "kernelspec": {
   "display_name": "Python 3",
   "language": "python",
   "name": "python3"
  },
  "language_info": {
   "codemirror_mode": {
    "name": "ipython",
    "version": 3
   },
   "file_extension": ".py",
   "mimetype": "text/x-python",
   "name": "python",
   "nbconvert_exporter": "python",
   "pygments_lexer": "ipython3",
   "version": "3.8.8"
  }
 },
 "nbformat": 4,
 "nbformat_minor": 5
}
